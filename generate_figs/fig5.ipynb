{
 "cells": [
  {
   "cell_type": "code",
   "execution_count": 1,
   "metadata": {},
   "outputs": [],
   "source": [
    "import seaborn as sns\n",
    "import matplotlib.pyplot as plt\n",
    "import matplotlib as mpl\n",
    "from pickle import load\n",
    "import pandas as pd\n",
    "from os.path import join, exists\n",
    "from os import makedirs\n",
    "from tables import open_file\n",
    "from scipy.special import softmax\n",
    "import numpy as np\n",
    "from plot_utils import *"
   ]
  },
  {
   "cell_type": "code",
   "execution_count": 26,
   "metadata": {},
   "outputs": [],
   "source": [
    "# Universal plot settings\n",
    "ASPECT = 2/3\n",
    "sns.set_theme(context = 'paper', style='white', font = 'Arial')\n",
    "sns.set_context(\"paper\", rc={\"font.size\":15,\"axes.titlesize\":15,\"axes.labelsize\":15, 'xtick.labelsize':12, 'ytick.labelsize':12})  \n",
    "\n",
    "mpl.rcParams['axes.spines.right'] = False\n",
    "mpl.rcParams['axes.spines.top'] = False\n",
    "mpl.rcParams.update({'font.size': 20})\n",
    "\n",
    "plt.rcParams['figure.figsize'] = [12, 8]\n",
    "color_palette = {'H': '#FF0000', 'M': '#00FF00', 'L':'#0000FF', 'Z': 'k'}\n",
    "%matplotlib inline\n",
    "# color code:\n",
    "# H red: #FF0000    M red: #B30000    L red: #660000    H green: #00FF00    M green: #00B300    L green:#006600\n",
    "# H pref:#FF0000    M pref:#00FF00    L pref:#0000FF\n"
   ]
  },
  {
   "cell_type": "code",
   "execution_count": 3,
   "metadata": {},
   "outputs": [],
   "source": [
    "\n",
    "# Plotting Switches\n",
    "\n",
    "save_plot = True\n",
    "rerun_calc = False\n",
    "plot_c = True\n",
    "plot_d = True\n",
    "plot_e = False\n",
    "plot_f = False\n",
    "plot_g = False\n",
    "plot_h = False\n",
    "plot_i = False\n",
    "plot_j = False\n",
    "\n",
    "total_rep = 50\n",
    "root_dir = \"..\\crossOutput_noInterneuron_noMTConn_gaussianInOut_WeightLambda1_highTestCoh_model\"\n",
    "plot_dir = 'Fig5'\n",
    "if not exists(plot_dir):\n",
    "    makedirs(plot_dir)"
   ]
  },
  {
   "cell_type": "code",
   "execution_count": 4,
   "metadata": {},
   "outputs": [
    {
     "data": {
      "text/html": [
       "<div>\n",
       "<style scoped>\n",
       "    .dataframe tbody tr th:only-of-type {\n",
       "        vertical-align: middle;\n",
       "    }\n",
       "\n",
       "    .dataframe tbody tr th {\n",
       "        vertical-align: top;\n",
       "    }\n",
       "\n",
       "    .dataframe thead th {\n",
       "        text-align: right;\n",
       "    }\n",
       "</style>\n",
       "<table border=\"1\" class=\"dataframe\">\n",
       "  <thead>\n",
       "    <tr style=\"text-align: right;\">\n",
       "      <th></th>\n",
       "      <th>Unnamed: 0</th>\n",
       "      <th>rep</th>\n",
       "      <th>coh</th>\n",
       "      <th>acc</th>\n",
       "      <th>rt</th>\n",
       "    </tr>\n",
       "  </thead>\n",
       "  <tbody>\n",
       "    <tr>\n",
       "      <th>0</th>\n",
       "      <td>0</td>\n",
       "      <td>0</td>\n",
       "      <td>H</td>\n",
       "      <td>0.913852</td>\n",
       "      <td>368.956357</td>\n",
       "    </tr>\n",
       "    <tr>\n",
       "      <th>1</th>\n",
       "      <td>1</td>\n",
       "      <td>0</td>\n",
       "      <td>M</td>\n",
       "      <td>0.820697</td>\n",
       "      <td>384.426230</td>\n",
       "    </tr>\n",
       "    <tr>\n",
       "      <th>2</th>\n",
       "      <td>2</td>\n",
       "      <td>0</td>\n",
       "      <td>L</td>\n",
       "      <td>0.808674</td>\n",
       "      <td>412.319688</td>\n",
       "    </tr>\n",
       "    <tr>\n",
       "      <th>3</th>\n",
       "      <td>3</td>\n",
       "      <td>0</td>\n",
       "      <td>Z</td>\n",
       "      <td>0.377981</td>\n",
       "      <td>425.038462</td>\n",
       "    </tr>\n",
       "    <tr>\n",
       "      <th>4</th>\n",
       "      <td>4</td>\n",
       "      <td>1</td>\n",
       "      <td>H</td>\n",
       "      <td>0.907771</td>\n",
       "      <td>372.392638</td>\n",
       "    </tr>\n",
       "    <tr>\n",
       "      <th>5</th>\n",
       "      <td>5</td>\n",
       "      <td>1</td>\n",
       "      <td>M</td>\n",
       "      <td>0.877875</td>\n",
       "      <td>359.805068</td>\n",
       "    </tr>\n",
       "    <tr>\n",
       "      <th>6</th>\n",
       "      <td>6</td>\n",
       "      <td>1</td>\n",
       "      <td>L</td>\n",
       "      <td>0.838483</td>\n",
       "      <td>406.966292</td>\n",
       "    </tr>\n",
       "    <tr>\n",
       "      <th>7</th>\n",
       "      <td>7</td>\n",
       "      <td>1</td>\n",
       "      <td>Z</td>\n",
       "      <td>0.502930</td>\n",
       "      <td>450.507812</td>\n",
       "    </tr>\n",
       "    <tr>\n",
       "      <th>8</th>\n",
       "      <td>8</td>\n",
       "      <td>2</td>\n",
       "      <td>H</td>\n",
       "      <td>0.942056</td>\n",
       "      <td>347.887850</td>\n",
       "    </tr>\n",
       "    <tr>\n",
       "      <th>9</th>\n",
       "      <td>9</td>\n",
       "      <td>2</td>\n",
       "      <td>M</td>\n",
       "      <td>0.883368</td>\n",
       "      <td>390.991736</td>\n",
       "    </tr>\n",
       "  </tbody>\n",
       "</table>\n",
       "</div>"
      ],
      "text/plain": [
       "   Unnamed: 0  rep coh       acc          rt\n",
       "0           0    0   H  0.913852  368.956357\n",
       "1           1    0   M  0.820697  384.426230\n",
       "2           2    0   L  0.808674  412.319688\n",
       "3           3    0   Z  0.377981  425.038462\n",
       "4           4    1   H  0.907771  372.392638\n",
       "5           5    1   M  0.877875  359.805068\n",
       "6           6    1   L  0.838483  406.966292\n",
       "7           7    1   Z  0.502930  450.507812\n",
       "8           8    2   H  0.942056  347.887850\n",
       "9           9    2   M  0.883368  390.991736"
      ]
     },
     "execution_count": 4,
     "metadata": {},
     "output_type": "execute_result"
    }
   ],
   "source": [
    "\n",
    "if rerun_calc:\n",
    "    # load all rt and acc into a dataframe\n",
    "    all_acc_rt_df = pd.DataFrame(columns=['rep', 'coh', 'acc', 'rt'])\n",
    "    for rep in range(total_rep):\n",
    "        with open(join(root_dir, 'test_results_%d.pkl' %(rep)), 'rb') as f:\n",
    "            data = load(f)\n",
    "        rt_dict = calc_coh_rt(root_dir, rep, 0.8)\n",
    "\n",
    "        temp_df = pd.DataFrame({\n",
    "                    \"rep\": [rep] *4,\n",
    "                    \"coh\":['H', 'M', 'L', 'Z'], \n",
    "                    \"acc\":[data['H_acc'][0], data['M_acc'][0], data['L_acc'][0], data['Z_acc'][0]],\n",
    "                    \"rt\": [np.mean(rt_dict['H']), np.mean(rt_dict['M']), np.mean(rt_dict['L']), np.mean(rt_dict['Z'])]\n",
    "                                })\n",
    "        all_acc_rt_df = pd.concat([all_acc_rt_df, temp_df], ignore_index=True)\n",
    "    all_acc_rt_df.to_csv(join(root_dir, 'all_acc_rt_df.csv'))\n",
    "else:\n",
    "    all_acc_rt_df = pd.read_csv(join(root_dir, 'all_acc_rt_df.csv'))\n",
    "\n",
    "\n",
    "all_acc_rt_df.head(10)\n",
    "\n",
    "       "
   ]
  },
  {
   "cell_type": "code",
   "execution_count": 27,
   "metadata": {},
   "outputs": [
    {
     "data": {
      "image/png": "[encoded data removed]",
      "text/plain": [
       "<Figure size 432x288 with 1 Axes>"
      ]
     },
     "metadata": {
      "needs_background": "light"
     },
     "output_type": "display_data"
    }
   ],
   "source": [
    "# fig 5c: violin plot of accuracy\n",
    "\n",
    "if plot_c:\n",
    "    fig, ax = plt.subplots()\n",
    "    sns.violinplot(x = 'coh', y = 'acc', data = pd.DataFrame(all_acc_rt_df.to_dict()), inner='points', palette = color_palette, ax=ax)\n",
    "    plt.setp(ax.collections, alpha = 0.5)\n",
    "    ax.set(xlabel='Coherence', ylabel=\"Accuracy\")\n",
    "    ax.tick_params(bottom=True, left=True)\n",
    "    plt.tight_layout()\n",
    "    if save_plot:\n",
    "        plt.savefig(join(plot_dir, \"5c.pdf\"))\n",
    "    plt.show()"
   ]
  },
  {
   "cell_type": "code",
   "execution_count": 28,
   "metadata": {},
   "outputs": [
    {
     "data": {
      "image/png": "[encoded data removed]",
      "text/plain": [
       "<Figure size 432x288 with 1 Axes>"
      ]
     },
     "metadata": {
      "needs_background": "light"
     },
     "output_type": "display_data"
    }
   ],
   "source": [
    "# fig 5d: violin plot of reaction time\n",
    "\n",
    "if plot_d:\n",
    "    fig, ax = plt.subplots()\n",
    "    sns.violinplot(x = 'coh', y = 'rt', data = pd.DataFrame(all_acc_rt_df.to_dict()), inner='points', palette = color_palette, ax=ax)\n",
    "    plt.setp(ax.collections, alpha = 0.5)\n",
    "    ax.set(xlabel='Coherence', ylabel=\"Reaction Time (ms)\")\n",
    "    ax.tick_params(bottom=True, left=True)\n",
    "    if save_plot:\n",
    "        plt.savefig(join(plot_dir, \"5d.pdf\"))\n",
    "    plt.show()"
   ]
  },
  {
   "cell_type": "code",
   "execution_count": null,
   "metadata": {},
   "outputs": [],
   "source": []
  }
 ],
 "metadata": {
  "kernelspec": {
   "display_name": "brainpy-env",
   "language": "python",
   "name": "python3"
  },
  "language_info": {
   "codemirror_mode": {
    "name": "ipython",
    "version": 3
   },
   "file_extension": ".py",
   "mimetype": "text/x-python",
   "name": "python",
   "nbconvert_exporter": "python",
   "pygments_lexer": "ipython3",
   "version": "3.10.4"
  },
  "orig_nbformat": 4,
  "vscode": {
   "interpreter": {
    "hash": "51bff224fd843f9d95476ade473bb03a016c0042308b0933561062e176d425c4"
   }
  }
 },
 "nbformat": 4,
 "nbformat_minor": 2
}
