{
 "cells": [
  {
   "cell_type": "code",
   "execution_count": 1,
   "metadata": {},
   "outputs": [],
   "source": [
    "import numpy as np \n",
    "import tables\n",
    "import matplotlib.pyplot as plt\n",
    "import os\n",
    "import pickle"
   ]
  },
  {
   "cell_type": "code",
   "execution_count": 2,
   "metadata": {},
   "outputs": [],
   "source": [
    "f_dir = 'two_module_lowCoh_model'\n",
    "rep = 0\n",
    "lr = 0.02\n",
    "\n",
    "n_time = 70\n",
    "n_iter = 300\n",
    "n_btwn = 20\n",
    "stim_st_time = 45\n",
    "target_st_time = 25"
   ]
  },
  {
   "cell_type": "code",
   "execution_count": null,
   "metadata": {},
   "outputs": [],
   "source": [
    "def relu(input):\n",
    "    return input * (input>0)\n",
    "\n",
    "with open(os.path.join(f_dir, 'init_weight_%d_lr%f.pth'%(rep, lr)), 'rb') as f:\n",
    "    w_init = np.load(f,allow_pickle=True)\n",
    "with open(os.path.join(f_dir, 'model_results_%d_lr%f.pkl'%(rep, lr)), 'rb') as f:\n",
    "    model_results =  pickle.load(f)\n",
    "train_output = tables.open_file(os.path.join(f_dir, 'train_output_lr%f_rep%d.h5'%(lr, rep)), mode = 'r')\n",
    "table = train_output.root\n",
    "w_init = w_init.item()"
   ]
  },
  {
   "cell_type": "code",
   "execution_count": null,
   "metadata": {},
   "outputs": [],
   "source": [
    "h = table['h_iter280'][:]\n",
    "y = table['y_hist_iter280'][:]\n",
    "stim_level = table['stim_level_iter280'][:]\n",
    "neural_in = table['neural_in_iter280'][:]\n",
    "stim_dir = table['stim_dir_iter280'][:]\n",
    "rt = table['rt_iter280']"
   ]
  },
  {
   "cell_type": "code",
   "execution_count": null,
   "metadata": {},
   "outputs": [],
   "source": [
    "def find_coh_idx(stim_level):\n",
    "    H_idx = np.array(stim_level)==b'H'\n",
    "    M_idx = np.array(stim_level)==b'M'\n",
    "    L_idx = np.array(stim_level)==b'L'\n",
    "    Z_idx = np.array(stim_level)==b'Z'\n",
    "    return H_idx, M_idx, L_idx, Z_idx\n",
    "\n",
    "def find_sac_idx(y):\n",
    "    choice = np.argmax(y, 2)\n",
    "    contra_idx = choice==0\n",
    "    ipsi_idx = choice==1\n",
    "    return contra_idx, ipsi_idx\n",
    "\n",
    "def recover_targ_loc(desired_out, stim_dir):\n",
    "    # return the target arrangement: green_contra = 0, red_contra = 1\n",
    "    choice = np.argmax(desired_out, 2)\n",
    "    target = choice==1 # contra = 0, ipsi = 1\n",
    "    dir = stim_dir==315 # green = 0, red = 1\n",
    "    return np.logical_xor(target, dir)\n",
    "\n",
    "def get_choice_color(y, desired_out, stim_dir):\n",
    "    # return choice color (green = 0, red = 1)\n",
    "    choice = np.argmax(y, 2)\n",
    "    targ_loc = recover_targ_loc(desired_out, stim_dir)\n",
    "    return np.logical_xor(choice, targ_loc)\n",
    "\n",
    "def find_pref_dir(stim_dir, h):\n",
    "    red_idx = stim_dir==315\n",
    "    green_idx = stim_dir==135\n",
    "    red_mean = np.mean(h[stim_st_time:, red_idx, :], axis=[0, 1])\n",
    "    green_mean = np.mean(h[stim_st_time:, green_idx, :], axis=[0, 1])\n",
    "    pref_red = red_mean>green_mean\n",
    "    return pref_red\n",
    "\n",
    "def calc_avg_idx(h, trial_idx, cell_idx):\n",
    "    return np.mean(h[:, trial_idx, cell_idx], axis=[1, 2])\n",
    "\n",
    "def combine_idx(*args):\n",
    "    temp = args[0]\n",
    "    for i in range(1, len(args)):\n",
    "        temp = np.logical_and(temp, args[i])\n",
    "    return temp\n",
    "    \n",
    "\n",
    "def plot_coh_avgAct(h, y, desired_out, stim_level, stim_dir, cell_idx, save_plt):\n",
    "    fig, (ax1, ax2) = plt.subplots(1, 2, sharey=True)\n",
    "    H_idx, M_idx, L_idx, Z_idx = find_coh_idx(stim_level)\n",
    "    red_idx = stim_dir==315\n",
    "    green_idx = stim_dir==135\n",
    "    choice_color = get_choice_color(y, desired_out, stim_dir)\n",
    "    contra_idx, ipsi_idx = find_sac_idx(y)\n",
    "\n",
    "    # zero coherence stimulus direction is based on the choice color\n",
    "    ax1.plot(np.mean(h[:, combine_idx(ipsi_idx, Z_idx, choice_color==0), cell_idx], axis=1), color='#000000', label='135, Z')\n",
    "    ax1.plot(np.mean(h[:, combine_idx(ipsi_idx, L_idx, green_idx), cell_idx], axis=1), color='#046C41', label='135, L')\n",
    "    ax1.plot(np.mean(h[:, combine_idx(ipsi_idx, M_idx, green_idx), cell_idx], axis=1), color='#1AA33C', label='135, M')\n",
    "    ax1.plot(np.mean(h[:, combine_idx(ipsi_idx, H_idx, green_idx), cell_idx], axis=1), color='#83D475', label='135, H')\n",
    "    ax1.plot(np.mean(h[:, combine_idx(ipsi_idx, Z_idx, choice_color==1), cell_idx], axis=1), color='#000000', label='315, Z')\n",
    "    ax1.plot(np.mean(h[:, combine_idx(ipsi_idx, L_idx, red_idx), cell_idx], axis=1), color='#910000', label='315, L')\n",
    "    ax1.plot(np.mean(h[:, combine_idx(ipsi_idx, M_idx, red_idx), cell_idx], axis=1), color='#D32431', label='315, M')\n",
    "    ax1.plot(np.mean(h[:, combine_idx(ipsi_idx, H_idx, red_idx), cell_idx], axis=1), color='#CE5757', label='315, H')\n",
    "    ax1.set_title(\"Ipsi-lateral Saccade\")\n",
    "    ax1.set_ylabel(\"Average activity\")\n",
    "    ax1.set_xlabel(\"Time\")\n",
    "    ax1.legend()\n",
    "    ax1.axvline(x=target_st_time, color='k')\n",
    "    ax1.axvline(x=stim_st_time, color='k')\n",
    "\n",
    "\n",
    "    ax2.plot(np.mean(h[:, combine_idx(contra_idx, Z_idx, choice_color==0), cell_idx], axis=1), color='#000000', label='135, Z')\n",
    "    ax2.plot(np.mean(h[:, combine_idx(contra_idx, L_idx, green_idx), cell_idx], axis=1), color='#046C41', label='135, L')\n",
    "    ax2.plot(np.mean(h[:, combine_idx(contra_idx, M_idx, green_idx), cell_idx], axis=1), color='#1AA33C', label='135, M')\n",
    "    ax2.plot(np.mean(h[:, combine_idx(contra_idx, H_idx, green_idx), cell_idx], axis=1), color='#83D475', label='135, H')\n",
    "    ax2.plot(np.mean(h[:, combine_idx(contra_idx, Z_idx, choice_color==1), cell_idx], axis=1), color='#000000', label='315, Z')\n",
    "    ax2.plot(np.mean(h[:, combine_idx(contra_idx, L_idx, red_idx), cell_idx], axis=1), color='#910000', label='315, L')\n",
    "    ax2.plot(np.mean(h[:, combine_idx(contra_idx, M_idx, red_idx), cell_idx], axis=1), color='#D32431', label='315, M')\n",
    "    ax2.plot(np.mean(h[:, combine_idx(contra_idx, H_idx, red_idx), cell_idx], axis=1), color='#CE5757', label='315, H')\n",
    "    ax2.set_title(\"Contra-lateral Saccade\")\n",
    "    ax2.set_ylabel(\"Average activity\")\n",
    "    ax2.set_xlabel(\"Time\")\n",
    "    ax2.legend()\n",
    "    ax2.axvline(x=target_st_time, color='k')\n",
    "    ax2.axvline(x=stim_st_time, color='k')\n",
    "    \n",
    "\n",
    "\n",
    "\n",
    "    "
   ]
  },
  {
   "cell_type": "code",
   "execution_count": null,
   "metadata": {},
   "outputs": [],
   "source": [
    "h.shape"
   ]
  },
  {
   "cell_type": "code",
   "execution_count": null,
   "metadata": {},
   "outputs": [],
   "source": [
    "np.logical_and(np.array(stim_level)==b'H', stim_dir==315)"
   ]
  },
  {
   "cell_type": "code",
   "execution_count": null,
   "metadata": {},
   "outputs": [],
   "source": [
    "stim_dir==315"
   ]
  },
  {
   "cell_type": "code",
   "execution_count": null,
   "metadata": {},
   "outputs": [],
   "source": []
  },
  {
   "cell_type": "code",
   "execution_count": null,
   "metadata": {},
   "outputs": [],
   "source": [
    "model_results.keys()"
   ]
  },
  {
   "cell_type": "code",
   "execution_count": null,
   "metadata": {},
   "outputs": [],
   "source": [
    "plt.plot(model_results['rt'])"
   ]
  },
  {
   "cell_type": "code",
   "execution_count": null,
   "metadata": {},
   "outputs": [],
   "source": []
  },
  {
   "cell_type": "code",
   "execution_count": null,
   "metadata": {},
   "outputs": [],
   "source": []
  },
  {
   "cell_type": "code",
   "execution_count": null,
   "metadata": {},
   "outputs": [],
   "source": []
  },
  {
   "cell_type": "code",
   "execution_count": null,
   "metadata": {},
   "outputs": [],
   "source": []
  },
  {
   "cell_type": "code",
   "execution_count": null,
   "metadata": {},
   "outputs": [],
   "source": []
  },
  {
   "cell_type": "code",
   "execution_count": null,
   "metadata": {},
   "outputs": [],
   "source": []
  },
  {
   "cell_type": "code",
   "execution_count": null,
   "metadata": {},
   "outputs": [],
   "source": [
    "train_output.close()"
   ]
  }
 ],
 "metadata": {
  "interpreter": {
   "hash": "51bff224fd843f9d95476ade473bb03a016c0042308b0933561062e176d425c4"
  },
  "kernelspec": {
   "display_name": "Python 3.10.4 ('brainpy-env')",
   "language": "python",
   "name": "python3"
  },
  "language_info": {
   "codemirror_mode": {
    "name": "ipython",
    "version": 3
   },
   "file_extension": ".py",
   "mimetype": "text/x-python",
   "name": "python",
   "nbconvert_exporter": "python",
   "pygments_lexer": "ipython3",
   "version": "3.10.4"
  },
  "orig_nbformat": 4
 },
 "nbformat": 4,
 "nbformat_minor": 2
}
