{
 "cells": [
  {
   "cell_type": "code",
   "execution_count": 32,
   "metadata": {},
   "outputs": [],
   "source": [
    "import numpy as np \n",
    "import tables\n",
    "import matplotlib.pyplot as plt\n",
    "import os\n",
    "import pickle"
   ]
  },
  {
   "cell_type": "code",
   "execution_count": 43,
   "metadata": {},
   "outputs": [],
   "source": [
    "f_dir = 'two_module_lowCoh_model'\n",
    "rep = 0\n",
    "lr = 0.02\n",
    "\n",
    "n_time = 70\n",
    "n_iter = 300\n",
    "n_btwn = 20\n",
    "stim_st_time = 45\n",
    "target_st_time = 25"
   ]
  },
  {
   "cell_type": "code",
   "execution_count": 42,
   "metadata": {},
   "outputs": [],
   "source": [
    "def relu(input):\n",
    "    return input * (input>0)\n",
    "\n",
    "with open(os.path.join(f_dir, 'init_weight_%d_lr%f.pth'%(rep, lr)), 'rb') as f:\n",
    "    w_init = np.load(f,allow_pickle=True)\n",
    "with open(os.path.join(f_dir, 'model_results_%d_lr%f.pkl'%(rep, lr)), 'rb') as f:\n",
    "    model_results =  pickle.load(f)\n",
    "train_output = tables.open_file(os.path.join(f_dir, 'train_output_lr%f_rep%d.h5'%(lr, rep)), mode = 'r')\n",
    "table = train_output.root\n",
    "w_init = w_init.item()"
   ]
  },
  {
   "cell_type": "code",
   "execution_count": 39,
   "metadata": {},
   "outputs": [],
   "source": [
    "h = table['h_iter280'][:]\n",
    "y = table['y_hist_iter280'][:]\n",
    "stim_level = table['stim_level_iter280'][:]\n",
    "neural_in = table['neural_in_iter280'][:]\n",
    "stim_dir = table['stim_dir_iter280'][:]"
   ]
  },
  {
   "cell_type": "code",
   "execution_count": 24,
   "metadata": {},
   "outputs": [],
   "source": [
    "def find_coh_idx(stim_level):\n",
    "    H_idx = np.array(stim_level)==b'H'\n",
    "    M_idx = np.array(stim_level)==b'M'\n",
    "    L_idx = np.array(stim_level)==b'L'\n",
    "    Z_idx = np.array(stim_level)==b'Z'\n",
    "    return H_idx, M_idx, L_idx, Z_idx\n",
    "\n",
    "def find_sac_idx(y):\n",
    "    choice = np.argmax(y, 2)\n",
    "    contra_idx = choice==0\n",
    "    ipsi_idx = choice==1\n",
    "    return contra_idx, ipsi_idx\n",
    "\n",
    "def recover_targ_loc(desired_out, stim_dir):\n",
    "    # return the target arrangement: green_contra = 0, red_contra = 1\n",
    "    choice = np.argmax(desired_out, 2)\n",
    "    target = choice==1 # contra = 0, ipsi = 1\n",
    "    dir = stim_dir==315 # green = 0, red = 1\n",
    "    return np.logical_xor(target, dir)\n",
    "\n",
    "def get_choice_color(y, desired_out, stim_dir):\n",
    "    # return choice color (green = 0, red = 1)\n",
    "    choice = np.argmax(y, 2)\n",
    "    targ_loc = recover_targ_loc(desired_out, stim_dir)\n",
    "    return np.logical_xor(choice, targ_loc)\n",
    "\n",
    "def find_pref_dir(stim_dir, h):\n",
    "    red_idx = stim_dir==315\n",
    "    green_idx = stim_dir==135\n",
    "    red_mean = np.mean(h[stim_st_time:, red_idx, :], axis=[0, 1])\n",
    "    green_mean = np.mean(h[stim_st_time:, green_idx, :], axis=[0, 1])\n",
    "    pref_red = red_mean>green_mean\n",
    "    return pref_red\n",
    "\n",
    "def calc_avg_idx(h, trial_idx, cell_idx):\n",
    "    return np.mean(h[:, trial_idx, cell_idx], axis=[1, 2])\n",
    "\n",
    "def plot_coh_avgAct(h, stim_level, stim_dir, cell_idx, save_plt):\n",
    "    H_idx, M_idx, L_idx, Z_idx = find_coh_idx(stim_level)\n",
    "    red_idx = stim_dir==315\n",
    "    green_idx = stim_dir==135\n",
    "    \n",
    "\n",
    "\n",
    "    plt.plot(np.mean(h[:, np.logical_and(L_idx, green_idx), cell_idx], axis=1), color='#046C41', label='135, L')\n",
    "    plt.plot(np.mean(h[:, np.logical_and(M_idx, green_idx), cell_idx], axis=1), color='#1AA33C', label='135, M')\n",
    "    plt.plot(np.mean(h[:, np.logical_and(H_idx, green_idx), cell_idx], axis=1), color='#83D475', label='135, H')\n",
    "\n",
    "    plt.plot(np.mean(h[:, np.logical_and(L_idx, red_idx), cell_idx], axis=1), color='#910000', label='315, L')\n",
    "    plt.plot(np.mean(h[:, np.logical_and(M_idx, red_idx), cell_idx], axis=1), color='#D32431', label='315, M')\n",
    "    plt.plot(np.mean(h[:, np.logical_and(H_idx, red_idx), cell_idx], axis=1), color='#CE5757', label='315, H')\n",
    "    \n",
    "\n",
    "\n",
    "\n",
    "    "
   ]
  },
  {
   "cell_type": "code",
   "execution_count": 41,
   "metadata": {},
   "outputs": [
    {
     "data": {
      "text/plain": [
       "(70, 1024, 200)"
      ]
     },
     "execution_count": 41,
     "metadata": {},
     "output_type": "execute_result"
    }
   ],
   "source": [
    "h.shape"
   ]
  },
  {
   "cell_type": "code",
   "execution_count": 49,
   "metadata": {},
   "outputs": [
    {
     "data": {
      "text/plain": [
       "array([False, False,  True, ..., False, False, False])"
      ]
     },
     "execution_count": 49,
     "metadata": {},
     "output_type": "execute_result"
    }
   ],
   "source": [
    "np.logical_and(np.array(stim_level)==b'H', stim_dir==315)"
   ]
  },
  {
   "cell_type": "code",
   "execution_count": 46,
   "metadata": {},
   "outputs": [
    {
     "data": {
      "text/plain": [
       "array([ True, False,  True, ...,  True, False,  True])"
      ]
     },
     "execution_count": 46,
     "metadata": {},
     "output_type": "execute_result"
    }
   ],
   "source": [
    "stim_dir==315"
   ]
  },
  {
   "cell_type": "code",
   "execution_count": null,
   "metadata": {},
   "outputs": [],
   "source": []
  },
  {
   "cell_type": "code",
   "execution_count": 6,
   "metadata": {},
   "outputs": [
    {
     "data": {
      "text/plain": [
       "dict_keys(['total_accuracy', 'rt', 'loss', 'perf_loss', 'spike_loss', 'weight_loss', 'iteration', 'H_acc', 'M_acc', 'L_acc', 'Z_acc'])"
      ]
     },
     "execution_count": 6,
     "metadata": {},
     "output_type": "execute_result"
    }
   ],
   "source": [
    "model_results.keys()"
   ]
  },
  {
   "cell_type": "code",
   "execution_count": 11,
   "metadata": {},
   "outputs": [
    {
     "data": {
      "text/plain": [
       "[<matplotlib.lines.Line2D at 0x7fd9b733dd30>]"
      ]
     },
     "execution_count": 11,
     "metadata": {},
     "output_type": "execute_result"
    },
    {
     "data": {
      "image/png": "[encoded data removed]",
      "text/plain": [
       "<Figure size 432x288 with 1 Axes>"
      ]
     },
     "metadata": {
      "needs_background": "light"
     },
     "output_type": "display_data"
    }
   ],
   "source": [
    "plt.plot(model_results['rt'])"
   ]
  },
  {
   "cell_type": "code",
   "execution_count": null,
   "metadata": {},
   "outputs": [],
   "source": []
  },
  {
   "cell_type": "code",
   "execution_count": null,
   "metadata": {},
   "outputs": [],
   "source": []
  },
  {
   "cell_type": "code",
   "execution_count": null,
   "metadata": {},
   "outputs": [],
   "source": []
  },
  {
   "cell_type": "code",
   "execution_count": null,
   "metadata": {},
   "outputs": [],
   "source": []
  },
  {
   "cell_type": "code",
   "execution_count": null,
   "metadata": {},
   "outputs": [],
   "source": []
  },
  {
   "cell_type": "code",
   "execution_count": null,
   "metadata": {},
   "outputs": [],
   "source": []
  },
  {
   "cell_type": "code",
   "execution_count": null,
   "metadata": {},
   "outputs": [],
   "source": [
    "train_output.close()"
   ]
  }
 ],
 "metadata": {
  "interpreter": {
   "hash": "fd3f6b47891e04e6f63a141e74cd239cfdc3678553a8b70376a2f9306c31493f"
  },
  "kernelspec": {
   "display_name": "Python 3.8.12 ('brainpy_env')",
   "language": "python",
   "name": "python3"
  },
  "language_info": {
   "codemirror_mode": {
    "name": "ipython",
    "version": 3
   },
   "file_extension": ".py",
   "mimetype": "text/x-python",
   "name": "python",
   "nbconvert_exporter": "python",
   "pygments_lexer": "ipython3",
   "version": "3.8.12"
  },
  "orig_nbformat": 4
 },
 "nbformat": 4,
 "nbformat_minor": 2
}
